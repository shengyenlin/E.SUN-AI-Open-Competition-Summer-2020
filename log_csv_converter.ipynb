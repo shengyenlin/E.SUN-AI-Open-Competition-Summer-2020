{
 "cells": [
  {
   "cell_type": "code",
   "execution_count": 120,
   "metadata": {},
   "outputs": [],
   "source": [
    "'''\n",
    "TLDR\n",
    "1.使用之前請確定你有一個log資料夾跟ipynb同目錄，這是XX_log解壓縮出來的\n",
    "2.改下面的日期\n",
    "3.Run all\n",
    "'''\n",
    "###############################################\n",
    "log_date = \"0730\""
   ]
  },
  {
   "cell_type": "code",
   "execution_count": 106,
   "metadata": {},
   "outputs": [],
   "source": [
    "import glob"
   ]
  },
  {
   "cell_type": "code",
   "execution_count": 107,
   "metadata": {},
   "outputs": [],
   "source": [
    "txt_lst = glob.glob('**/*.txt')\n",
    "content_lst = []\n",
    "model_output = []"
   ]
  },
  {
   "cell_type": "code",
   "execution_count": 108,
   "metadata": {},
   "outputs": [
    {
     "name": "stdout",
     "output_type": "stream",
     "text": [
      "model except: log\\1596017469_6633873.txt\n",
      "model except: log\\1596017472_1051142.txt\n",
      "model except: log\\1596017474_3321967.txt\n",
      "model except: log\\1596018639_000069.txt\n",
      "model except: log\\1596018642_1850424.txt\n",
      "model except: log\\1596018645_1978266.txt\n",
      "model except: log\\1596020499_3596568.txt\n",
      "model except: log\\1596020502_1786015.txt\n",
      "model except: log\\1596020505_0182092.txt\n",
      "model except: log\\1596020753_460719.txt\n",
      "model except: log\\1596020756_0259507.txt\n",
      "model except: log\\1596020758_6400957.txt\n",
      "model except: log\\1596107415_3659017.txt\n",
      "model except: log\\1596107417_9747412.txt\n",
      "model except: log\\1596107420_6578908.txt\n",
      "model except: log\\1596107461_20146.txt\n",
      "model except: log\\1596107463_6091175.txt\n",
      "model except: log\\1596107465_7307012.txt\n",
      "model except: log\\1596109182_6357083.txt\n",
      "model except: log\\1596109184_6962533.txt\n",
      "model except: log\\1596109186_8025463.txt\n",
      "model except: log\\1596109551_5059354.txt\n",
      "model except: log\\1596109554_7842016.txt\n",
      "model except: log\\1596109557_4316134.txt\n"
     ]
    }
   ],
   "source": [
    "for i in txt_lst:\n",
    "    with open(i,'r',encoding=\"utf-8\") as fp:\n",
    "        all_lines = fp.readlines()\n",
    "        try:\n",
    "            content_lst.append(all_lines[0])\n",
    "        except:\n",
    "            content_lst.append(None)\n",
    "            print(\"content except:\", i)\n",
    "        try:\n",
    "            model_output.append(all_lines[4])\n",
    "        except:\n",
    "            model_output.append(None)\n",
    "            print(\"model except:\", i)"
   ]
  },
  {
   "cell_type": "code",
   "execution_count": 109,
   "metadata": {},
   "outputs": [],
   "source": [
    "# trimming return line\n",
    "model_output = [i[:-1] if i != None else None for i in model_output]\n",
    "content_lst = [i[:-1] for i in content_lst]"
   ]
  },
  {
   "cell_type": "code",
   "execution_count": 110,
   "metadata": {},
   "outputs": [],
   "source": [
    "content_model_dupli = pd.DataFrame({\n",
    "    \"content\": content_lst,\n",
    "    \"model_output\": model_output\n",
    "})"
   ]
  },
  {
   "cell_type": "code",
   "execution_count": 111,
   "metadata": {},
   "outputs": [
    {
     "data": {
      "text/html": [
       "<div>\n",
       "<style scoped>\n",
       "    .dataframe tbody tr th:only-of-type {\n",
       "        vertical-align: middle;\n",
       "    }\n",
       "\n",
       "    .dataframe tbody tr th {\n",
       "        vertical-align: top;\n",
       "    }\n",
       "\n",
       "    .dataframe thead th {\n",
       "        text-align: right;\n",
       "    }\n",
       "</style>\n",
       "<table border=\"1\" class=\"dataframe\">\n",
       "  <thead>\n",
       "    <tr style=\"text-align: right;\">\n",
       "      <th></th>\n",
       "      <th>content</th>\n",
       "      <th>model_output</th>\n",
       "    </tr>\n",
       "  </thead>\n",
       "  <tbody>\n",
       "    <tr>\n",
       "      <th>0</th>\n",
       "      <td>高雄市?市長韓國瑜昨宣布的原住民委員會主委林國權，因吸金官司爭議，今早宣佈放棄職務。韓國瑜今...</td>\n",
       "      <td>['朱學恒', '林國權', '陳其邁', '陳麗娜', '韓國瑜']</td>\n",
       "    </tr>\n",
       "    <tr>\n",
       "      <th>1</th>\n",
       "      <td>〔記者邱安琪、陳星苓、楊佳慧／綜合報導〕國民黨前立委李和岳涉嫌以人頭詐領助理費五三二萬餘元，...</td>\n",
       "      <td>['李和岳']</td>\n",
       "    </tr>\n",
       "    <tr>\n",
       "      <th>2</th>\n",
       "      <td>這是測試文章</td>\n",
       "      <td>[]</td>\n",
       "    </tr>\n",
       "    <tr>\n",
       "      <th>3</th>\n",
       "      <td>MSCI明晟季度調整於台股27日收盤後生效，壓抑了整天的成交動能到了尾盤終於掀開鍋蓋，出現一...</td>\n",
       "      <td>[]</td>\n",
       "    </tr>\n",
       "    <tr>\n",
       "      <th>4</th>\n",
       "      <td>檢調偵辦「三鑫集團」以投資俄羅斯賭場等名目吸金12億元案，發現三鑫集團負責人曾裕仁去年因債務...</td>\n",
       "      <td>['曾裕仁', '王妤昆', '謝發布', '陳男頭']</td>\n",
       "    </tr>\n",
       "    <tr>\n",
       "      <th>...</th>\n",
       "      <td>...</td>\n",
       "      <td>...</td>\n",
       "    </tr>\n",
       "    <tr>\n",
       "      <th>780</th>\n",
       "      <td>12歲中二男生於10月初在旺角警署和太子站外牆噴上辱罵字句，遭便衣警員目睹並尾隨至住所。少年...</td>\n",
       "      <td>[]</td>\n",
       "    </tr>\n",
       "    <tr>\n",
       "      <th>781</th>\n",
       "      <td>原標題：雲南白藥擬推員工持股計劃股價大漲本次員工持股計劃所持有的股票累計不超過公司股本總額的...</td>\n",
       "      <td>[]</td>\n",
       "    </tr>\n",
       "    <tr>\n",
       "      <th>782</th>\n",
       "      <td>原標題：雲南白藥擬推員工持股計劃股價大漲本次員工持股計劃所持有的股票累計不超過公司股本總額的...</td>\n",
       "      <td>[]</td>\n",
       "    </tr>\n",
       "    <tr>\n",
       "      <th>783</th>\n",
       "      <td>2017年底，行政院拋出2035年禁售燃油機車的政策目標，但全台超過2萬家的機車行生計該如何...</td>\n",
       "      <td>[]</td>\n",
       "    </tr>\n",
       "    <tr>\n",
       "      <th>784</th>\n",
       "      <td>原標題：雲南白藥擬推員工持股計劃股價大漲本次員工持股計劃所持有的股票累計不超過公司股本總額的...</td>\n",
       "      <td>[]</td>\n",
       "    </tr>\n",
       "  </tbody>\n",
       "</table>\n",
       "<p>785 rows × 2 columns</p>\n",
       "</div>"
      ],
      "text/plain": [
       "                                               content  \\\n",
       "0    高雄市?市長韓國瑜昨宣布的原住民委員會主委林國權，因吸金官司爭議，今早宣佈放棄職務。韓國瑜今...   \n",
       "1    〔記者邱安琪、陳星苓、楊佳慧／綜合報導〕國民黨前立委李和岳涉嫌以人頭詐領助理費五三二萬餘元，...   \n",
       "2                                               這是測試文章   \n",
       "3    MSCI明晟季度調整於台股27日收盤後生效，壓抑了整天的成交動能到了尾盤終於掀開鍋蓋，出現一...   \n",
       "4    檢調偵辦「三鑫集團」以投資俄羅斯賭場等名目吸金12億元案，發現三鑫集團負責人曾裕仁去年因債務...   \n",
       "..                                                 ...   \n",
       "780  12歲中二男生於10月初在旺角警署和太子站外牆噴上辱罵字句，遭便衣警員目睹並尾隨至住所。少年...   \n",
       "781  原標題：雲南白藥擬推員工持股計劃股價大漲本次員工持股計劃所持有的股票累計不超過公司股本總額的...   \n",
       "782  原標題：雲南白藥擬推員工持股計劃股價大漲本次員工持股計劃所持有的股票累計不超過公司股本總額的...   \n",
       "783  2017年底，行政院拋出2035年禁售燃油機車的政策目標，但全台超過2萬家的機車行生計該如何...   \n",
       "784  原標題：雲南白藥擬推員工持股計劃股價大漲本次員工持股計劃所持有的股票累計不超過公司股本總額的...   \n",
       "\n",
       "                            model_output  \n",
       "0    ['朱學恒', '林國權', '陳其邁', '陳麗娜', '韓國瑜']  \n",
       "1                                ['李和岳']  \n",
       "2                                     []  \n",
       "3                                     []  \n",
       "4           ['曾裕仁', '王妤昆', '謝發布', '陳男頭']  \n",
       "..                                   ...  \n",
       "780                                   []  \n",
       "781                                   []  \n",
       "782                                   []  \n",
       "783                                   []  \n",
       "784                                   []  \n",
       "\n",
       "[785 rows x 2 columns]"
      ]
     },
     "execution_count": 111,
     "metadata": {},
     "output_type": "execute_result"
    }
   ],
   "source": [
    "content_model_dupli"
   ]
  },
  {
   "cell_type": "code",
   "execution_count": 112,
   "metadata": {},
   "outputs": [],
   "source": [
    "from collections import Counter\n",
    "import pandas as pd"
   ]
  },
  {
   "cell_type": "code",
   "execution_count": 113,
   "metadata": {},
   "outputs": [],
   "source": [
    "'''\n",
    "Counter:\n",
    "https://stackoverflow.com/questions/11068986/how-to-convert-counter-object-to-dict\n",
    "'''\n",
    "content_count = dict(Counter(content_lst))\n",
    "cnt_content_lst = []\n",
    "cnt_cnt_lst = []"
   ]
  },
  {
   "cell_type": "code",
   "execution_count": 114,
   "metadata": {},
   "outputs": [],
   "source": [
    "for key in content_count.keys():\n",
    "    cnt_content_lst.append(key)\n",
    "for value in content_count.values():\n",
    "    cnt_cnt_lst.append(value)"
   ]
  },
  {
   "cell_type": "code",
   "execution_count": 115,
   "metadata": {},
   "outputs": [],
   "source": [
    "content_cnt = pd.DataFrame({\n",
    "    \"content\": cnt_content_lst,\n",
    "    \"cnt\": cnt_cnt_lst\n",
    "})"
   ]
  },
  {
   "cell_type": "code",
   "execution_count": 116,
   "metadata": {},
   "outputs": [
    {
     "data": {
      "text/html": [
       "<div>\n",
       "<style scoped>\n",
       "    .dataframe tbody tr th:only-of-type {\n",
       "        vertical-align: middle;\n",
       "    }\n",
       "\n",
       "    .dataframe tbody tr th {\n",
       "        vertical-align: top;\n",
       "    }\n",
       "\n",
       "    .dataframe thead th {\n",
       "        text-align: right;\n",
       "    }\n",
       "</style>\n",
       "<table border=\"1\" class=\"dataframe\">\n",
       "  <thead>\n",
       "    <tr style=\"text-align: right;\">\n",
       "      <th></th>\n",
       "      <th>content</th>\n",
       "      <th>model_output</th>\n",
       "    </tr>\n",
       "  </thead>\n",
       "  <tbody>\n",
       "    <tr>\n",
       "      <th>0</th>\n",
       "      <td>高雄市?市長韓國瑜昨宣布的原住民委員會主委林國權，因吸金官司爭議，今早宣佈放棄職務。韓國瑜今...</td>\n",
       "      <td>['朱學恒', '林國權', '陳其邁', '陳麗娜', '韓國瑜']</td>\n",
       "    </tr>\n",
       "    <tr>\n",
       "      <th>1</th>\n",
       "      <td>〔記者邱安琪、陳星苓、楊佳慧／綜合報導〕國民黨前立委李和岳涉嫌以人頭詐領助理費五三二萬餘元，...</td>\n",
       "      <td>['李和岳']</td>\n",
       "    </tr>\n",
       "    <tr>\n",
       "      <th>2</th>\n",
       "      <td>這是測試文章</td>\n",
       "      <td>[]</td>\n",
       "    </tr>\n",
       "    <tr>\n",
       "      <th>3</th>\n",
       "      <td>MSCI明晟季度調整於台股27日收盤後生效，壓抑了整天的成交動能到了尾盤終於掀開鍋蓋，出現一...</td>\n",
       "      <td>[]</td>\n",
       "    </tr>\n",
       "    <tr>\n",
       "      <th>4</th>\n",
       "      <td>檢調偵辦「三鑫集團」以投資俄羅斯賭場等名目吸金12億元案，發現三鑫集團負責人曾裕仁去年因債務...</td>\n",
       "      <td>['曾裕仁', '王妤昆', '謝發布', '陳男頭']</td>\n",
       "    </tr>\n",
       "    <tr>\n",
       "      <th>...</th>\n",
       "      <td>...</td>\n",
       "      <td>...</td>\n",
       "    </tr>\n",
       "    <tr>\n",
       "      <th>780</th>\n",
       "      <td>12歲中二男生於10月初在旺角警署和太子站外牆噴上辱罵字句，遭便衣警員目睹並尾隨至住所。少年...</td>\n",
       "      <td>[]</td>\n",
       "    </tr>\n",
       "    <tr>\n",
       "      <th>781</th>\n",
       "      <td>原標題：雲南白藥擬推員工持股計劃股價大漲本次員工持股計劃所持有的股票累計不超過公司股本總額的...</td>\n",
       "      <td>[]</td>\n",
       "    </tr>\n",
       "    <tr>\n",
       "      <th>782</th>\n",
       "      <td>原標題：雲南白藥擬推員工持股計劃股價大漲本次員工持股計劃所持有的股票累計不超過公司股本總額的...</td>\n",
       "      <td>[]</td>\n",
       "    </tr>\n",
       "    <tr>\n",
       "      <th>783</th>\n",
       "      <td>2017年底，行政院拋出2035年禁售燃油機車的政策目標，但全台超過2萬家的機車行生計該如何...</td>\n",
       "      <td>[]</td>\n",
       "    </tr>\n",
       "    <tr>\n",
       "      <th>784</th>\n",
       "      <td>原標題：雲南白藥擬推員工持股計劃股價大漲本次員工持股計劃所持有的股票累計不超過公司股本總額的...</td>\n",
       "      <td>[]</td>\n",
       "    </tr>\n",
       "  </tbody>\n",
       "</table>\n",
       "<p>785 rows × 2 columns</p>\n",
       "</div>"
      ],
      "text/plain": [
       "                                               content  \\\n",
       "0    高雄市?市長韓國瑜昨宣布的原住民委員會主委林國權，因吸金官司爭議，今早宣佈放棄職務。韓國瑜今...   \n",
       "1    〔記者邱安琪、陳星苓、楊佳慧／綜合報導〕國民黨前立委李和岳涉嫌以人頭詐領助理費五三二萬餘元，...   \n",
       "2                                               這是測試文章   \n",
       "3    MSCI明晟季度調整於台股27日收盤後生效，壓抑了整天的成交動能到了尾盤終於掀開鍋蓋，出現一...   \n",
       "4    檢調偵辦「三鑫集團」以投資俄羅斯賭場等名目吸金12億元案，發現三鑫集團負責人曾裕仁去年因債務...   \n",
       "..                                                 ...   \n",
       "780  12歲中二男生於10月初在旺角警署和太子站外牆噴上辱罵字句，遭便衣警員目睹並尾隨至住所。少年...   \n",
       "781  原標題：雲南白藥擬推員工持股計劃股價大漲本次員工持股計劃所持有的股票累計不超過公司股本總額的...   \n",
       "782  原標題：雲南白藥擬推員工持股計劃股價大漲本次員工持股計劃所持有的股票累計不超過公司股本總額的...   \n",
       "783  2017年底，行政院拋出2035年禁售燃油機車的政策目標，但全台超過2萬家的機車行生計該如何...   \n",
       "784  原標題：雲南白藥擬推員工持股計劃股價大漲本次員工持股計劃所持有的股票累計不超過公司股本總額的...   \n",
       "\n",
       "                            model_output  \n",
       "0    ['朱學恒', '林國權', '陳其邁', '陳麗娜', '韓國瑜']  \n",
       "1                                ['李和岳']  \n",
       "2                                     []  \n",
       "3                                     []  \n",
       "4           ['曾裕仁', '王妤昆', '謝發布', '陳男頭']  \n",
       "..                                   ...  \n",
       "780                                   []  \n",
       "781                                   []  \n",
       "782                                   []  \n",
       "783                                   []  \n",
       "784                                   []  \n",
       "\n",
       "[785 rows x 2 columns]"
      ]
     },
     "execution_count": 116,
     "metadata": {},
     "output_type": "execute_result"
    }
   ],
   "source": [
    "content_model_dupli"
   ]
  },
  {
   "cell_type": "code",
   "execution_count": 117,
   "metadata": {},
   "outputs": [],
   "source": [
    "tb = content_cnt.merge(content_model_dupli, on=\"content\", how=\"left\")"
   ]
  },
  {
   "cell_type": "code",
   "execution_count": 118,
   "metadata": {},
   "outputs": [],
   "source": [
    "# drop based on condition, dunno why dropduplicates not work\n",
    "tb = tb.drop(tb[tb[[\"content\"]].duplicated()].index).reset_index(drop=True)"
   ]
  },
  {
   "cell_type": "code",
   "execution_count": 119,
   "metadata": {},
   "outputs": [],
   "source": [
    "tb.to_csv(log_date + \"log.csv\")"
   ]
  }
 ],
 "metadata": {
  "kernelspec": {
   "display_name": "Python 3",
   "language": "python",
   "name": "python3"
  },
  "language_info": {
   "codemirror_mode": {
    "name": "ipython",
    "version": 3
   },
   "file_extension": ".py",
   "mimetype": "text/x-python",
   "name": "python",
   "nbconvert_exporter": "python",
   "pygments_lexer": "ipython3",
   "version": "3.6.9"
  },
  "toc": {
   "base_numbering": 1,
   "nav_menu": {},
   "number_sections": true,
   "sideBar": true,
   "skip_h1_title": false,
   "title_cell": "Table of Contents",
   "title_sidebar": "Contents",
   "toc_cell": false,
   "toc_position": {},
   "toc_section_display": true,
   "toc_window_display": false
  }
 },
 "nbformat": 4,
 "nbformat_minor": 4
}
